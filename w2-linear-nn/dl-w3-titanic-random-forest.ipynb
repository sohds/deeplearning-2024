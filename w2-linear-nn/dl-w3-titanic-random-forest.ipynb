{
 "cells": [
  {
   "cell_type": "code",
   "execution_count": 1,
   "id": "159dfed6",
   "metadata": {
    "_cell_guid": "b1076dfc-b9ad-4769-8c92-a6c4dae69d19",
    "_uuid": "8f2839f25d086af736a60e9eeb907d3b93b6e0e5",
    "execution": {
     "iopub.execute_input": "2024-09-20T09:26:54.148575Z",
     "iopub.status.busy": "2024-09-20T09:26:54.148115Z",
     "iopub.status.idle": "2024-09-20T09:26:54.585852Z",
     "shell.execute_reply": "2024-09-20T09:26:54.584395Z"
    },
    "papermill": {
     "duration": 0.447297,
     "end_time": "2024-09-20T09:26:54.589012",
     "exception": false,
     "start_time": "2024-09-20T09:26:54.141715",
     "status": "completed"
    },
    "tags": []
   },
   "outputs": [
    {
     "name": "stdout",
     "output_type": "stream",
     "text": [
      "/kaggle/input/titanic-dl/train.csv\n",
      "/kaggle/input/titanic-dl/test.csv\n"
     ]
    }
   ],
   "source": [
    "# This Python 3 environment comes with many helpful analytics libraries installed\n",
    "# It is defined by the kaggle/python Docker image: https://github.com/kaggle/docker-python\n",
    "# For example, here's several helpful packages to load\n",
    "\n",
    "import numpy as np # linear algebra\n",
    "import pandas as pd # data processing, CSV file I/O (e.g. pd.read_csv)\n",
    "\n",
    "# Input data files are available in the read-only \"../input/\" directory\n",
    "# For example, running this (by clicking run or pressing Shift+Enter) will list all files under the input directory\n",
    "\n",
    "import os\n",
    "for dirname, _, filenames in os.walk('/kaggle/input'):\n",
    "    for filename in filenames:\n",
    "        print(os.path.join(dirname, filename))\n",
    "\n",
    "# You can write up to 20GB to the current directory (/kaggle/working/) that gets preserved as output when you create a version using \"Save & Run All\" \n",
    "# You can also write temporary files to /kaggle/temp/, but they won't be saved outside of the current session"
   ]
  },
  {
   "cell_type": "code",
   "execution_count": 2,
   "id": "20532462",
   "metadata": {
    "execution": {
     "iopub.execute_input": "2024-09-20T09:26:54.598987Z",
     "iopub.status.busy": "2024-09-20T09:26:54.598438Z",
     "iopub.status.idle": "2024-09-20T09:26:54.603635Z",
     "shell.execute_reply": "2024-09-20T09:26:54.602512Z"
    },
    "papermill": {
     "duration": 0.012665,
     "end_time": "2024-09-20T09:26:54.605871",
     "exception": false,
     "start_time": "2024-09-20T09:26:54.593206",
     "status": "completed"
    },
    "tags": []
   },
   "outputs": [],
   "source": [
    "import numpy as np\n",
    "import pandas as pd"
   ]
  },
  {
   "cell_type": "code",
   "execution_count": 3,
   "id": "b83fc182",
   "metadata": {
    "execution": {
     "iopub.execute_input": "2024-09-20T09:26:54.615306Z",
     "iopub.status.busy": "2024-09-20T09:26:54.614609Z",
     "iopub.status.idle": "2024-09-20T09:26:54.648043Z",
     "shell.execute_reply": "2024-09-20T09:26:54.646989Z"
    },
    "papermill": {
     "duration": 0.040881,
     "end_time": "2024-09-20T09:26:54.650603",
     "exception": false,
     "start_time": "2024-09-20T09:26:54.609722",
     "status": "completed"
    },
    "tags": []
   },
   "outputs": [],
   "source": [
    "test_data = pd.read_csv('/kaggle/input/titanic-dl/test.csv')\n",
    "train_data = pd.read_csv('/kaggle/input/titanic-dl/train.csv')"
   ]
  },
  {
   "cell_type": "code",
   "execution_count": 4,
   "id": "6d375409",
   "metadata": {
    "execution": {
     "iopub.execute_input": "2024-09-20T09:26:54.660655Z",
     "iopub.status.busy": "2024-09-20T09:26:54.659620Z",
     "iopub.status.idle": "2024-09-20T09:26:56.674411Z",
     "shell.execute_reply": "2024-09-20T09:26:56.672960Z"
    },
    "papermill": {
     "duration": 2.023266,
     "end_time": "2024-09-20T09:26:56.677690",
     "exception": false,
     "start_time": "2024-09-20T09:26:54.654424",
     "status": "completed"
    },
    "tags": []
   },
   "outputs": [],
   "source": [
    "from sklearn.ensemble import RandomForestClassifier"
   ]
  },
  {
   "cell_type": "code",
   "execution_count": 5,
   "id": "bf6602e4",
   "metadata": {
    "execution": {
     "iopub.execute_input": "2024-09-20T09:26:56.687748Z",
     "iopub.status.busy": "2024-09-20T09:26:56.687169Z",
     "iopub.status.idle": "2024-09-20T09:26:56.701069Z",
     "shell.execute_reply": "2024-09-20T09:26:56.699929Z"
    },
    "papermill": {
     "duration": 0.022122,
     "end_time": "2024-09-20T09:26:56.703875",
     "exception": false,
     "start_time": "2024-09-20T09:26:56.681753",
     "status": "completed"
    },
    "tags": []
   },
   "outputs": [],
   "source": [
    "y = train_data[\"Survived\"]"
   ]
  },
  {
   "cell_type": "code",
   "execution_count": 6,
   "id": "09be7478",
   "metadata": {
    "execution": {
     "iopub.execute_input": "2024-09-20T09:26:56.714150Z",
     "iopub.status.busy": "2024-09-20T09:26:56.713590Z",
     "iopub.status.idle": "2024-09-20T09:26:56.737629Z",
     "shell.execute_reply": "2024-09-20T09:26:56.736358Z"
    },
    "papermill": {
     "duration": 0.03227,
     "end_time": "2024-09-20T09:26:56.740378",
     "exception": false,
     "start_time": "2024-09-20T09:26:56.708108",
     "status": "completed"
    },
    "tags": []
   },
   "outputs": [],
   "source": [
    "features = ['Pclass', 'Sex', 'SibSp', 'Parch']\n",
    "X = pd.get_dummies(train_data[features])\n",
    "X_test = pd.get_dummies(test_data[features])"
   ]
  },
  {
   "cell_type": "code",
   "execution_count": 7,
   "id": "4e2de722",
   "metadata": {
    "execution": {
     "iopub.execute_input": "2024-09-20T09:26:56.749890Z",
     "iopub.status.busy": "2024-09-20T09:26:56.749408Z",
     "iopub.status.idle": "2024-09-20T09:26:56.960509Z",
     "shell.execute_reply": "2024-09-20T09:26:56.958922Z"
    },
    "papermill": {
     "duration": 0.219065,
     "end_time": "2024-09-20T09:26:56.963242",
     "exception": false,
     "start_time": "2024-09-20T09:26:56.744177",
     "status": "completed"
    },
    "tags": []
   },
   "outputs": [],
   "source": [
    "model = RandomForestClassifier(n_estimators=100, max_depth=5, random_state=1)\n",
    "model.fit(X, y)\n",
    "predictions = model.predict(X_test)"
   ]
  },
  {
   "cell_type": "code",
   "execution_count": 8,
   "id": "8a30eb6c",
   "metadata": {
    "execution": {
     "iopub.execute_input": "2024-09-20T09:26:56.972752Z",
     "iopub.status.busy": "2024-09-20T09:26:56.972340Z",
     "iopub.status.idle": "2024-09-20T09:26:56.983113Z",
     "shell.execute_reply": "2024-09-20T09:26:56.981748Z"
    },
    "papermill": {
     "duration": 0.019087,
     "end_time": "2024-09-20T09:26:56.986290",
     "exception": false,
     "start_time": "2024-09-20T09:26:56.967203",
     "status": "completed"
    },
    "tags": []
   },
   "outputs": [
    {
     "name": "stdout",
     "output_type": "stream",
     "text": [
      "Your submission was successfully saved!\n"
     ]
    }
   ],
   "source": [
    "output = pd.DataFrame({'PassengerId': test_data.PassengerId, 'Survived': predictions})\n",
    "output.to_csv('submission.csv', index=False)\n",
    "print(\"Your submission was successfully saved!\")"
   ]
  },
  {
   "cell_type": "code",
   "execution_count": 9,
   "id": "e14fecab",
   "metadata": {
    "execution": {
     "iopub.execute_input": "2024-09-20T09:26:56.996051Z",
     "iopub.status.busy": "2024-09-20T09:26:56.995609Z",
     "iopub.status.idle": "2024-09-20T09:26:57.020599Z",
     "shell.execute_reply": "2024-09-20T09:26:57.019492Z"
    },
    "papermill": {
     "duration": 0.032983,
     "end_time": "2024-09-20T09:26:57.023449",
     "exception": false,
     "start_time": "2024-09-20T09:26:56.990466",
     "status": "completed"
    },
    "tags": []
   },
   "outputs": [],
   "source": [
    "predictions = model.predict(X)\n",
    "sum = 0\n",
    "for i in range(len(y)):\n",
    "    if y[i] == predictions[i]:\n",
    "        sum += 1"
   ]
  },
  {
   "cell_type": "code",
   "execution_count": 10,
   "id": "6ed69802",
   "metadata": {
    "execution": {
     "iopub.execute_input": "2024-09-20T09:26:57.032980Z",
     "iopub.status.busy": "2024-09-20T09:26:57.032502Z",
     "iopub.status.idle": "2024-09-20T09:26:57.039550Z",
     "shell.execute_reply": "2024-09-20T09:26:57.037991Z"
    },
    "papermill": {
     "duration": 0.014787,
     "end_time": "2024-09-20T09:26:57.042070",
     "exception": false,
     "start_time": "2024-09-20T09:26:57.027283",
     "status": "completed"
    },
    "tags": []
   },
   "outputs": [
    {
     "name": "stdout",
     "output_type": "stream",
     "text": [
      "0.8159371492704826\n"
     ]
    }
   ],
   "source": [
    "print(sum/len(y))"
   ]
  },
  {
   "cell_type": "code",
   "execution_count": 11,
   "id": "a190a104",
   "metadata": {
    "execution": {
     "iopub.execute_input": "2024-09-20T09:26:57.052079Z",
     "iopub.status.busy": "2024-09-20T09:26:57.051609Z",
     "iopub.status.idle": "2024-09-20T09:26:57.071769Z",
     "shell.execute_reply": "2024-09-20T09:26:57.070639Z"
    },
    "papermill": {
     "duration": 0.02837,
     "end_time": "2024-09-20T09:26:57.074429",
     "exception": false,
     "start_time": "2024-09-20T09:26:57.046059",
     "status": "completed"
    },
    "tags": []
   },
   "outputs": [
    {
     "data": {
      "text/html": [
       "<div>\n",
       "<style scoped>\n",
       "    .dataframe tbody tr th:only-of-type {\n",
       "        vertical-align: middle;\n",
       "    }\n",
       "\n",
       "    .dataframe tbody tr th {\n",
       "        vertical-align: top;\n",
       "    }\n",
       "\n",
       "    .dataframe thead th {\n",
       "        text-align: right;\n",
       "    }\n",
       "</style>\n",
       "<table border=\"1\" class=\"dataframe\">\n",
       "  <thead>\n",
       "    <tr style=\"text-align: right;\">\n",
       "      <th></th>\n",
       "      <th>PassengerId</th>\n",
       "      <th>Survived</th>\n",
       "    </tr>\n",
       "  </thead>\n",
       "  <tbody>\n",
       "    <tr>\n",
       "      <th>0</th>\n",
       "      <td>892</td>\n",
       "      <td>0</td>\n",
       "    </tr>\n",
       "    <tr>\n",
       "      <th>1</th>\n",
       "      <td>893</td>\n",
       "      <td>1</td>\n",
       "    </tr>\n",
       "    <tr>\n",
       "      <th>2</th>\n",
       "      <td>894</td>\n",
       "      <td>0</td>\n",
       "    </tr>\n",
       "    <tr>\n",
       "      <th>3</th>\n",
       "      <td>895</td>\n",
       "      <td>0</td>\n",
       "    </tr>\n",
       "    <tr>\n",
       "      <th>4</th>\n",
       "      <td>896</td>\n",
       "      <td>1</td>\n",
       "    </tr>\n",
       "    <tr>\n",
       "      <th>...</th>\n",
       "      <td>...</td>\n",
       "      <td>...</td>\n",
       "    </tr>\n",
       "    <tr>\n",
       "      <th>413</th>\n",
       "      <td>1305</td>\n",
       "      <td>0</td>\n",
       "    </tr>\n",
       "    <tr>\n",
       "      <th>414</th>\n",
       "      <td>1306</td>\n",
       "      <td>1</td>\n",
       "    </tr>\n",
       "    <tr>\n",
       "      <th>415</th>\n",
       "      <td>1307</td>\n",
       "      <td>0</td>\n",
       "    </tr>\n",
       "    <tr>\n",
       "      <th>416</th>\n",
       "      <td>1308</td>\n",
       "      <td>0</td>\n",
       "    </tr>\n",
       "    <tr>\n",
       "      <th>417</th>\n",
       "      <td>1309</td>\n",
       "      <td>0</td>\n",
       "    </tr>\n",
       "  </tbody>\n",
       "</table>\n",
       "<p>418 rows × 2 columns</p>\n",
       "</div>"
      ],
      "text/plain": [
       "     PassengerId  Survived\n",
       "0            892         0\n",
       "1            893         1\n",
       "2            894         0\n",
       "3            895         0\n",
       "4            896         1\n",
       "..           ...       ...\n",
       "413         1305         0\n",
       "414         1306         1\n",
       "415         1307         0\n",
       "416         1308         0\n",
       "417         1309         0\n",
       "\n",
       "[418 rows x 2 columns]"
      ]
     },
     "execution_count": 11,
     "metadata": {},
     "output_type": "execute_result"
    }
   ],
   "source": [
    "output"
   ]
  },
  {
   "cell_type": "code",
   "execution_count": null,
   "id": "c7fdb0fe",
   "metadata": {
    "papermill": {
     "duration": 0.004218,
     "end_time": "2024-09-20T09:26:57.082925",
     "exception": false,
     "start_time": "2024-09-20T09:26:57.078707",
     "status": "completed"
    },
    "tags": []
   },
   "outputs": [],
   "source": []
  }
 ],
 "metadata": {
  "kaggle": {
   "accelerator": "none",
   "dataSources": [
    {
     "datasetId": 5735938,
     "sourceId": 9439398,
     "sourceType": "datasetVersion"
    }
   ],
   "dockerImageVersionId": 30761,
   "isGpuEnabled": false,
   "isInternetEnabled": true,
   "language": "python",
   "sourceType": "notebook"
  },
  "kernelspec": {
   "display_name": "Python 3",
   "language": "python",
   "name": "python3"
  },
  "language_info": {
   "codemirror_mode": {
    "name": "ipython",
    "version": 3
   },
   "file_extension": ".py",
   "mimetype": "text/x-python",
   "name": "python",
   "nbconvert_exporter": "python",
   "pygments_lexer": "ipython3",
   "version": "3.10.14"
  },
  "papermill": {
   "default_parameters": {},
   "duration": 6.49653,
   "end_time": "2024-09-20T09:26:57.710028",
   "environment_variables": {},
   "exception": null,
   "input_path": "__notebook__.ipynb",
   "output_path": "__notebook__.ipynb",
   "parameters": {},
   "start_time": "2024-09-20T09:26:51.213498",
   "version": "2.6.0"
  }
 },
 "nbformat": 4,
 "nbformat_minor": 5
}
