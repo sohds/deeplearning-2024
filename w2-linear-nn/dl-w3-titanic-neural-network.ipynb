{
 "cells": [
  {
   "cell_type": "code",
   "execution_count": 1,
   "id": "e7c29dca",
   "metadata": {
    "_cell_guid": "b1076dfc-b9ad-4769-8c92-a6c4dae69d19",
    "_uuid": "8f2839f25d086af736a60e9eeb907d3b93b6e0e5",
    "execution": {
     "iopub.execute_input": "2024-09-20T09:28:38.659439Z",
     "iopub.status.busy": "2024-09-20T09:28:38.658888Z",
     "iopub.status.idle": "2024-09-20T09:28:39.139311Z",
     "shell.execute_reply": "2024-09-20T09:28:39.137847Z"
    },
    "papermill": {
     "duration": 0.493031,
     "end_time": "2024-09-20T09:28:39.141984",
     "exception": false,
     "start_time": "2024-09-20T09:28:38.648953",
     "status": "completed"
    },
    "tags": []
   },
   "outputs": [
    {
     "name": "stdout",
     "output_type": "stream",
     "text": [
      "/kaggle/input/titanic-dl/train.csv\n",
      "/kaggle/input/titanic-dl/test.csv\n"
     ]
    }
   ],
   "source": [
    "# This Python 3 environment comes with many helpful analytics libraries installed\n",
    "# It is defined by the kaggle/python Docker image: https://github.com/kaggle/docker-python\n",
    "# For example, here's several helpful packages to load\n",
    "\n",
    "import numpy as np # linear algebra\n",
    "import pandas as pd # data processing, CSV file I/O (e.g. pd.read_csv)\n",
    "\n",
    "# Input data files are available in the read-only \"../input/\" directory\n",
    "# For example, running this (by clicking run or pressing Shift+Enter) will list all files under the input directory\n",
    "\n",
    "import os\n",
    "for dirname, _, filenames in os.walk('/kaggle/input'):\n",
    "    for filename in filenames:\n",
    "        print(os.path.join(dirname, filename))\n",
    "\n",
    "# You can write up to 20GB to the current directory (/kaggle/working/) that gets preserved as output when you create a version using \"Save & Run All\" \n",
    "# You can also write temporary files to /kaggle/temp/, but they won't be saved outside of the current session"
   ]
  },
  {
   "cell_type": "code",
   "execution_count": 2,
   "id": "eb682531",
   "metadata": {
    "execution": {
     "iopub.execute_input": "2024-09-20T09:28:39.159036Z",
     "iopub.status.busy": "2024-09-20T09:28:39.158455Z",
     "iopub.status.idle": "2024-09-20T09:28:42.284261Z",
     "shell.execute_reply": "2024-09-20T09:28:42.283234Z"
    },
    "papermill": {
     "duration": 3.137319,
     "end_time": "2024-09-20T09:28:42.286966",
     "exception": false,
     "start_time": "2024-09-20T09:28:39.149647",
     "status": "completed"
    },
    "tags": []
   },
   "outputs": [],
   "source": [
    "import numpy as np\n",
    "import pandas as pd\n",
    "import torch\n",
    "import warnings \n",
    "warnings.filterwarnings('ignore')"
   ]
  },
  {
   "cell_type": "code",
   "execution_count": 3,
   "id": "b84544bd",
   "metadata": {
    "execution": {
     "iopub.execute_input": "2024-09-20T09:28:42.303389Z",
     "iopub.status.busy": "2024-09-20T09:28:42.302829Z",
     "iopub.status.idle": "2024-09-20T09:28:42.417842Z",
     "shell.execute_reply": "2024-09-20T09:28:42.416717Z"
    },
    "papermill": {
     "duration": 0.126401,
     "end_time": "2024-09-20T09:28:42.420615",
     "exception": false,
     "start_time": "2024-09-20T09:28:42.294214",
     "status": "completed"
    },
    "tags": []
   },
   "outputs": [],
   "source": [
    "input_dim = 4\n",
    "hidden_dim = 6\n",
    "output_dim = 1"
   ]
  },
  {
   "cell_type": "code",
   "execution_count": 4,
   "id": "12e60e43",
   "metadata": {
    "execution": {
     "iopub.execute_input": "2024-09-20T09:28:42.437264Z",
     "iopub.status.busy": "2024-09-20T09:28:42.436822Z",
     "iopub.status.idle": "2024-09-20T09:28:42.441863Z",
     "shell.execute_reply": "2024-09-20T09:28:42.440775Z"
    },
    "papermill": {
     "duration": 0.016187,
     "end_time": "2024-09-20T09:28:42.444237",
     "exception": false,
     "start_time": "2024-09-20T09:28:42.428050",
     "status": "completed"
    },
    "tags": []
   },
   "outputs": [],
   "source": [
    "EPOCHS = 10"
   ]
  },
  {
   "cell_type": "code",
   "execution_count": 5,
   "id": "a3b12cb3",
   "metadata": {
    "execution": {
     "iopub.execute_input": "2024-09-20T09:28:42.461361Z",
     "iopub.status.busy": "2024-09-20T09:28:42.460256Z",
     "iopub.status.idle": "2024-09-20T09:28:42.466246Z",
     "shell.execute_reply": "2024-09-20T09:28:42.465064Z"
    },
    "papermill": {
     "duration": 0.017081,
     "end_time": "2024-09-20T09:28:42.468663",
     "exception": false,
     "start_time": "2024-09-20T09:28:42.451582",
     "status": "completed"
    },
    "tags": []
   },
   "outputs": [],
   "source": [
    "X_data = []\n",
    "X_test_data = []\n",
    "Y_data = []"
   ]
  },
  {
   "cell_type": "code",
   "execution_count": 6,
   "id": "962e3d1f",
   "metadata": {
    "execution": {
     "iopub.execute_input": "2024-09-20T09:28:42.485717Z",
     "iopub.status.busy": "2024-09-20T09:28:42.485235Z",
     "iopub.status.idle": "2024-09-20T09:28:42.515509Z",
     "shell.execute_reply": "2024-09-20T09:28:42.514436Z"
    },
    "papermill": {
     "duration": 0.042401,
     "end_time": "2024-09-20T09:28:42.518310",
     "exception": false,
     "start_time": "2024-09-20T09:28:42.475909",
     "status": "completed"
    },
    "tags": []
   },
   "outputs": [],
   "source": [
    "df_train = pd.read_csv('/kaggle/input/titanic-dl/train.csv')\n",
    "df_test = pd.read_csv('/kaggle/input/titanic-dl/test.csv')"
   ]
  },
  {
   "cell_type": "code",
   "execution_count": 7,
   "id": "7d4a74c2",
   "metadata": {
    "execution": {
     "iopub.execute_input": "2024-09-20T09:28:42.534658Z",
     "iopub.status.busy": "2024-09-20T09:28:42.534206Z",
     "iopub.status.idle": "2024-09-20T09:28:42.544338Z",
     "shell.execute_reply": "2024-09-20T09:28:42.543262Z"
    },
    "papermill": {
     "duration": 0.021015,
     "end_time": "2024-09-20T09:28:42.546747",
     "exception": false,
     "start_time": "2024-09-20T09:28:42.525732",
     "status": "completed"
    },
    "tags": []
   },
   "outputs": [],
   "source": [
    "# 학습 데이터 준비\n",
    "def data():\n",
    "    global X_data, X_test_data, Y_data\n",
    "    \n",
    "    Y = df_train[\"Survived\"]\n",
    "    \n",
    "    df_train.loc[df_train['Sex'] == 'male', 'Sex'] = 0\n",
    "    df_train.loc[df_train['Sex'] == 'female', 'Sex'] = 1\n",
    "    df_train['Sex'] = pd.to_numeric(df_train['Sex'])\n",
    "    \n",
    "    df_test.loc[df_test['Sex'] == 'male', 'Sex'] = 0\n",
    "    df_test.loc[df_test['Sex'] == 'female', 'Sex'] = 1\n",
    "    df_test['Sex'] = pd.to_numeric(df_test['Sex'])\n",
    "    \n",
    "    features = ['Pclass', 'Sex', 'SibSp', 'Parch']\n",
    "    X = pd.get_dummies(df_train[features])\n",
    "    X_test = pd.get_dummies(df_test[features])\n",
    "    \n",
    "    X_data = torch.from_numpy(X.to_numpy()).float()\n",
    "    X_test_data = torch.from_numpy(X_test.to_numpy()).float()\n",
    "    Y_data = torch.from_numpy(Y.to_numpy()).float()"
   ]
  },
  {
   "cell_type": "code",
   "execution_count": 8,
   "id": "194f7418",
   "metadata": {
    "execution": {
     "iopub.execute_input": "2024-09-20T09:28:42.563176Z",
     "iopub.status.busy": "2024-09-20T09:28:42.562741Z",
     "iopub.status.idle": "2024-09-20T09:28:42.570376Z",
     "shell.execute_reply": "2024-09-20T09:28:42.569199Z"
    },
    "papermill": {
     "duration": 0.01912,
     "end_time": "2024-09-20T09:28:42.573194",
     "exception": false,
     "start_time": "2024-09-20T09:28:42.554074",
     "status": "completed"
    },
    "tags": []
   },
   "outputs": [],
   "source": [
    "class TitanicModel(torch.nn.Module):\n",
    "    def __init__(self):\n",
    "        super(TitanicModel, self).__init__()\n",
    "        \n",
    "        self.linear1 = torch.nn.Linear(input_dim, hidden_dim)\n",
    "        self.ReLU = torch.nn.ReLU()\n",
    "        self.linear3 = torch.nn.Linear(hidden_dim, output_dim)\n",
    "        \n",
    "    def forward(self, x):\n",
    "        x = self.linear1(x)\n",
    "        x = self.ReLU(x)\n",
    "        x = self.linear3(x)\n",
    "        return x"
   ]
  },
  {
   "cell_type": "code",
   "execution_count": 9,
   "id": "06d3da29",
   "metadata": {
    "execution": {
     "iopub.execute_input": "2024-09-20T09:28:42.590475Z",
     "iopub.status.busy": "2024-09-20T09:28:42.589953Z",
     "iopub.status.idle": "2024-09-20T09:28:42.597984Z",
     "shell.execute_reply": "2024-09-20T09:28:42.596704Z"
    },
    "papermill": {
     "duration": 0.019429,
     "end_time": "2024-09-20T09:28:42.600455",
     "exception": false,
     "start_time": "2024-09-20T09:28:42.581026",
     "status": "completed"
    },
    "tags": []
   },
   "outputs": [],
   "source": [
    "def train_one_epoch():\n",
    "    \n",
    "    global X_data, Y_data\n",
    "    \n",
    "    for i in range(len(X_data)):\n",
    "        inputs = X_data[i]\n",
    "        labels = Y_data[i]\n",
    "        \n",
    "        optimizer.zero_grad()\n",
    "        \n",
    "        outputs = model(inputs)\n",
    "        \n",
    "        loss = loss_fn(outputs, labels)\n",
    "        \n",
    "        loss.backward()\n",
    "        \n",
    "        optimizer.step()\n",
    "        \n",
    "    return loss.item()"
   ]
  },
  {
   "cell_type": "code",
   "execution_count": 10,
   "id": "daab1ebf",
   "metadata": {
    "execution": {
     "iopub.execute_input": "2024-09-20T09:28:42.617489Z",
     "iopub.status.busy": "2024-09-20T09:28:42.617038Z",
     "iopub.status.idle": "2024-09-20T09:28:44.196308Z",
     "shell.execute_reply": "2024-09-20T09:28:44.195137Z"
    },
    "papermill": {
     "duration": 1.591069,
     "end_time": "2024-09-20T09:28:44.199240",
     "exception": false,
     "start_time": "2024-09-20T09:28:42.608171",
     "status": "completed"
    },
    "tags": []
   },
   "outputs": [],
   "source": [
    "data()\n",
    "model = TitanicModel()\n",
    "loss_fn = torch.nn.MSELoss()\n",
    "optimizer = torch.optim.SGD(model.parameters(), lr=0.001, momentum=0.9)"
   ]
  },
  {
   "cell_type": "code",
   "execution_count": 11,
   "id": "7833ce41",
   "metadata": {
    "execution": {
     "iopub.execute_input": "2024-09-20T09:28:44.215743Z",
     "iopub.status.busy": "2024-09-20T09:28:44.215125Z",
     "iopub.status.idle": "2024-09-20T09:28:44.223983Z",
     "shell.execute_reply": "2024-09-20T09:28:44.222739Z"
    },
    "papermill": {
     "duration": 0.020066,
     "end_time": "2024-09-20T09:28:44.226511",
     "exception": false,
     "start_time": "2024-09-20T09:28:44.206445",
     "status": "completed"
    },
    "tags": []
   },
   "outputs": [
    {
     "data": {
      "text/plain": [
       "'torch.FloatTensor'"
      ]
     },
     "execution_count": 11,
     "metadata": {},
     "output_type": "execute_result"
    }
   ],
   "source": [
    "X_data.type()"
   ]
  },
  {
   "cell_type": "code",
   "execution_count": 12,
   "id": "fbf2900a",
   "metadata": {
    "execution": {
     "iopub.execute_input": "2024-09-20T09:28:44.246667Z",
     "iopub.status.busy": "2024-09-20T09:28:44.245333Z",
     "iopub.status.idle": "2024-09-20T09:28:50.393639Z",
     "shell.execute_reply": "2024-09-20T09:28:50.392269Z"
    },
    "papermill": {
     "duration": 6.163283,
     "end_time": "2024-09-20T09:28:50.397369",
     "exception": false,
     "start_time": "2024-09-20T09:28:44.234086",
     "status": "completed"
    },
    "tags": []
   },
   "outputs": [],
   "source": [
    "for epoch in range(EPOCHS):\n",
    "    model.train(True)\n",
    "    avg_loss = train_one_epoch()"
   ]
  },
  {
   "cell_type": "code",
   "execution_count": 13,
   "id": "93178343",
   "metadata": {
    "execution": {
     "iopub.execute_input": "2024-09-20T09:28:50.414950Z",
     "iopub.status.busy": "2024-09-20T09:28:50.414024Z",
     "iopub.status.idle": "2024-09-20T09:28:50.419823Z",
     "shell.execute_reply": "2024-09-20T09:28:50.418661Z"
    },
    "papermill": {
     "duration": 0.017148,
     "end_time": "2024-09-20T09:28:50.422351",
     "exception": false,
     "start_time": "2024-09-20T09:28:50.405203",
     "status": "completed"
    },
    "tags": []
   },
   "outputs": [],
   "source": [
    "sum_correct = 0\n",
    "total_num = len(X_data)"
   ]
  },
  {
   "cell_type": "code",
   "execution_count": 14,
   "id": "73916f56",
   "metadata": {
    "execution": {
     "iopub.execute_input": "2024-09-20T09:28:50.439718Z",
     "iopub.status.busy": "2024-09-20T09:28:50.438661Z",
     "iopub.status.idle": "2024-09-20T09:28:50.566908Z",
     "shell.execute_reply": "2024-09-20T09:28:50.565711Z"
    },
    "papermill": {
     "duration": 0.139837,
     "end_time": "2024-09-20T09:28:50.569688",
     "exception": false,
     "start_time": "2024-09-20T09:28:50.429851",
     "status": "completed"
    },
    "tags": []
   },
   "outputs": [
    {
     "name": "stdout",
     "output_type": "stream",
     "text": [
      "Accuracy : 0.8058361391694725\n"
     ]
    }
   ],
   "source": [
    "for i in range(total_num):\n",
    "    result = model(X_data[i])\n",
    "    result = result.detach().numpy()\n",
    "    result = 1 if result > 0.5 else 0\n",
    "    \n",
    "    if result == Y_data[i]:\n",
    "        sum_correct += 1\n",
    "print(\"Accuracy :\", sum_correct/total_num)"
   ]
  },
  {
   "cell_type": "code",
   "execution_count": 15,
   "id": "e2ada6e7",
   "metadata": {
    "execution": {
     "iopub.execute_input": "2024-09-20T09:28:50.587155Z",
     "iopub.status.busy": "2024-09-20T09:28:50.586734Z",
     "iopub.status.idle": "2024-09-20T09:28:50.596981Z",
     "shell.execute_reply": "2024-09-20T09:28:50.595716Z"
    },
    "papermill": {
     "duration": 0.022279,
     "end_time": "2024-09-20T09:28:50.599622",
     "exception": false,
     "start_time": "2024-09-20T09:28:50.577343",
     "status": "completed"
    },
    "tags": []
   },
   "outputs": [],
   "source": [
    "submission_df = pd.DataFrame(columns=['PassengerId', 'Survived'])\n",
    "submission_df['PassengerId'] = df_test['PassengerId']"
   ]
  },
  {
   "cell_type": "code",
   "execution_count": 16,
   "id": "6cf8acca",
   "metadata": {
    "execution": {
     "iopub.execute_input": "2024-09-20T09:28:50.616622Z",
     "iopub.status.busy": "2024-09-20T09:28:50.616206Z",
     "iopub.status.idle": "2024-09-20T09:28:50.621567Z",
     "shell.execute_reply": "2024-09-20T09:28:50.620435Z"
    },
    "papermill": {
     "duration": 0.016815,
     "end_time": "2024-09-20T09:28:50.624032",
     "exception": false,
     "start_time": "2024-09-20T09:28:50.607217",
     "status": "completed"
    },
    "tags": []
   },
   "outputs": [],
   "source": [
    "# 예측 결과를 저장할 리스트 생성\n",
    "survived_results = []"
   ]
  },
  {
   "cell_type": "code",
   "execution_count": 17,
   "id": "0647cfaa",
   "metadata": {
    "execution": {
     "iopub.execute_input": "2024-09-20T09:28:50.641542Z",
     "iopub.status.busy": "2024-09-20T09:28:50.640526Z",
     "iopub.status.idle": "2024-09-20T09:28:50.696190Z",
     "shell.execute_reply": "2024-09-20T09:28:50.694938Z"
    },
    "papermill": {
     "duration": 0.067621,
     "end_time": "2024-09-20T09:28:50.699134",
     "exception": false,
     "start_time": "2024-09-20T09:28:50.631513",
     "status": "completed"
    },
    "tags": []
   },
   "outputs": [],
   "source": [
    "for i in range(len(X_test_data)):\n",
    "    result = model(X_test_data[i])\n",
    "    result = result.detach().numpy()\n",
    "    result = 1 if result > 0.5 else 0\n",
    "    \n",
    "    # 예측 결과를 리스트에 저장\n",
    "    survived_results.append(result)\n",
    "\n",
    "# 예측 결과를 'Survived' 컬럼에 할당\n",
    "submission_df['Survived'] = survived_results"
   ]
  },
  {
   "cell_type": "code",
   "execution_count": 18,
   "id": "71674446",
   "metadata": {
    "execution": {
     "iopub.execute_input": "2024-09-20T09:28:50.716110Z",
     "iopub.status.busy": "2024-09-20T09:28:50.715655Z",
     "iopub.status.idle": "2024-09-20T09:28:50.727143Z",
     "shell.execute_reply": "2024-09-20T09:28:50.725799Z"
    },
    "papermill": {
     "duration": 0.022892,
     "end_time": "2024-09-20T09:28:50.729677",
     "exception": false,
     "start_time": "2024-09-20T09:28:50.706785",
     "status": "completed"
    },
    "tags": []
   },
   "outputs": [
    {
     "name": "stdout",
     "output_type": "stream",
     "text": [
      "Result saved\n"
     ]
    }
   ],
   "source": [
    "submission_df.to_csv('submissions.csv', header=True, index=False)\n",
    "print(\"Result saved\")"
   ]
  },
  {
   "cell_type": "code",
   "execution_count": 19,
   "id": "c109a347",
   "metadata": {
    "execution": {
     "iopub.execute_input": "2024-09-20T09:28:50.746879Z",
     "iopub.status.busy": "2024-09-20T09:28:50.746377Z",
     "iopub.status.idle": "2024-09-20T09:28:50.765600Z",
     "shell.execute_reply": "2024-09-20T09:28:50.764342Z"
    },
    "papermill": {
     "duration": 0.031032,
     "end_time": "2024-09-20T09:28:50.768416",
     "exception": false,
     "start_time": "2024-09-20T09:28:50.737384",
     "status": "completed"
    },
    "tags": []
   },
   "outputs": [
    {
     "data": {
      "text/html": [
       "<div>\n",
       "<style scoped>\n",
       "    .dataframe tbody tr th:only-of-type {\n",
       "        vertical-align: middle;\n",
       "    }\n",
       "\n",
       "    .dataframe tbody tr th {\n",
       "        vertical-align: top;\n",
       "    }\n",
       "\n",
       "    .dataframe thead th {\n",
       "        text-align: right;\n",
       "    }\n",
       "</style>\n",
       "<table border=\"1\" class=\"dataframe\">\n",
       "  <thead>\n",
       "    <tr style=\"text-align: right;\">\n",
       "      <th></th>\n",
       "      <th>PassengerId</th>\n",
       "      <th>Survived</th>\n",
       "    </tr>\n",
       "  </thead>\n",
       "  <tbody>\n",
       "    <tr>\n",
       "      <th>0</th>\n",
       "      <td>892</td>\n",
       "      <td>0</td>\n",
       "    </tr>\n",
       "    <tr>\n",
       "      <th>1</th>\n",
       "      <td>893</td>\n",
       "      <td>1</td>\n",
       "    </tr>\n",
       "    <tr>\n",
       "      <th>2</th>\n",
       "      <td>894</td>\n",
       "      <td>0</td>\n",
       "    </tr>\n",
       "    <tr>\n",
       "      <th>3</th>\n",
       "      <td>895</td>\n",
       "      <td>0</td>\n",
       "    </tr>\n",
       "    <tr>\n",
       "      <th>4</th>\n",
       "      <td>896</td>\n",
       "      <td>0</td>\n",
       "    </tr>\n",
       "    <tr>\n",
       "      <th>...</th>\n",
       "      <td>...</td>\n",
       "      <td>...</td>\n",
       "    </tr>\n",
       "    <tr>\n",
       "      <th>413</th>\n",
       "      <td>1305</td>\n",
       "      <td>0</td>\n",
       "    </tr>\n",
       "    <tr>\n",
       "      <th>414</th>\n",
       "      <td>1306</td>\n",
       "      <td>1</td>\n",
       "    </tr>\n",
       "    <tr>\n",
       "      <th>415</th>\n",
       "      <td>1307</td>\n",
       "      <td>0</td>\n",
       "    </tr>\n",
       "    <tr>\n",
       "      <th>416</th>\n",
       "      <td>1308</td>\n",
       "      <td>0</td>\n",
       "    </tr>\n",
       "    <tr>\n",
       "      <th>417</th>\n",
       "      <td>1309</td>\n",
       "      <td>0</td>\n",
       "    </tr>\n",
       "  </tbody>\n",
       "</table>\n",
       "<p>418 rows × 2 columns</p>\n",
       "</div>"
      ],
      "text/plain": [
       "     PassengerId  Survived\n",
       "0            892         0\n",
       "1            893         1\n",
       "2            894         0\n",
       "3            895         0\n",
       "4            896         0\n",
       "..           ...       ...\n",
       "413         1305         0\n",
       "414         1306         1\n",
       "415         1307         0\n",
       "416         1308         0\n",
       "417         1309         0\n",
       "\n",
       "[418 rows x 2 columns]"
      ]
     },
     "execution_count": 19,
     "metadata": {},
     "output_type": "execute_result"
    }
   ],
   "source": [
    "submission_df"
   ]
  },
  {
   "cell_type": "code",
   "execution_count": null,
   "id": "600be169",
   "metadata": {
    "papermill": {
     "duration": 0.008177,
     "end_time": "2024-09-20T09:28:50.784570",
     "exception": false,
     "start_time": "2024-09-20T09:28:50.776393",
     "status": "completed"
    },
    "tags": []
   },
   "outputs": [],
   "source": []
  }
 ],
 "metadata": {
  "kaggle": {
   "accelerator": "none",
   "dataSources": [
    {
     "datasetId": 5735938,
     "sourceId": 9439398,
     "sourceType": "datasetVersion"
    }
   ],
   "dockerImageVersionId": 30761,
   "isGpuEnabled": false,
   "isInternetEnabled": true,
   "language": "python",
   "sourceType": "notebook"
  },
  "kernelspec": {
   "display_name": "Python 3",
   "language": "python",
   "name": "python3"
  },
  "language_info": {
   "codemirror_mode": {
    "name": "ipython",
    "version": 3
   },
   "file_extension": ".py",
   "mimetype": "text/x-python",
   "name": "python",
   "nbconvert_exporter": "python",
   "pygments_lexer": "ipython3",
   "version": "3.10.14"
  },
  "papermill": {
   "default_parameters": {},
   "duration": 16.434471,
   "end_time": "2024-09-20T09:28:52.017935",
   "environment_variables": {},
   "exception": null,
   "input_path": "__notebook__.ipynb",
   "output_path": "__notebook__.ipynb",
   "parameters": {},
   "start_time": "2024-09-20T09:28:35.583464",
   "version": "2.6.0"
  }
 },
 "nbformat": 4,
 "nbformat_minor": 5
}
